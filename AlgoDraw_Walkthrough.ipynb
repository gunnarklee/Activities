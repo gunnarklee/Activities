{
  "nbformat": 4,
  "nbformat_minor": 0,
  "metadata": {
    "kernelspec": {
      "display_name": "Python 3",
      "language": "python",
      "name": "python3"
    },
    "language_info": {
      "codemirror_mode": {
        "name": "ipython",
        "version": 3
      },
      "file_extension": ".py",
      "mimetype": "text/x-python",
      "name": "python",
      "nbconvert_exporter": "python",
      "pygments_lexer": "ipython3",
      "version": "3.7.3"
    },
    "colab": {
      "name": "AlgoDraw_Walkthrough.ipynb",
      "provenance": [],
      "collapsed_sections": [],
      "include_colab_link": true
    }
  },
  "cells": [
    {
      "cell_type": "markdown",
      "metadata": {
        "id": "view-in-github",
        "colab_type": "text"
      },
      "source": [
        "<a href=\"https://colab.research.google.com/github/gunnarklee/Activities/blob/master/AlgoDraw_Walkthrough.ipynb\" target=\"_parent\"><img src=\"https://colab.research.google.com/assets/colab-badge.svg\" alt=\"Open In Colab\"/></a>"
      ]
    },
    {
      "cell_type": "code",
      "metadata": {
        "id": "EAscaG2dpHIN",
        "colab_type": "code",
        "colab": {}
      },
      "source": [
        ""
      ],
      "execution_count": 0,
      "outputs": []
    },
    {
      "cell_type": "markdown",
      "metadata": {
        "id": "bEAOluy8pH7p",
        "colab_type": "text"
      },
      "source": [
        "*italicized text*\n",
        "### Install colabTurtle in order to make this work.\n",
        "- then we can migrate to python on a different kernel. \n",
        "- that may be a lot to have them set up."
      ]
    },
    {
      "cell_type": "code",
      "metadata": {
        "id": "vQmpEjH2ZubQ",
        "colab_type": "code",
        "outputId": "1728a050-91f5-40ce-b462-7d06a1e54e77",
        "colab": {
          "base_uri": "https://localhost:8080/",
          "height": 190
        }
      },
      "source": [
        "# we have to instal this whenever we start the notebook. the ! allows us to work\n",
        "# \"under the hood (at the command line)\"\n",
        "\n",
        "!pip3 install ColabTurtle\n",
        "\n",
        "\n"
      ],
      "execution_count": 2,
      "outputs": [
        {
          "output_type": "stream",
          "text": [
            "Collecting ColabTurtle\n",
            "  Downloading https://files.pythonhosted.org/packages/49/01/6da7091c2c6c917cce99c000b89acb6aa27b66ef6eafc0c0ccf59b98694f/ColabTurtle-2.0.0.tar.gz\n",
            "Building wheels for collected packages: ColabTurtle\n",
            "  Building wheel for ColabTurtle (setup.py) ... \u001b[?25l\u001b[?25hdone\n",
            "  Created wheel for ColabTurtle: filename=ColabTurtle-2.0.0-cp36-none-any.whl size=4033 sha256=d1d05f66861e605d24585fbc565e0d76a2357cb9626b8f1349dccff4a17ca44b\n",
            "  Stored in directory: /root/.cache/pip/wheels/a8/29/ec/ad346f0042ae467cc74f4378916348faf975b07890651dcae7\n",
            "Successfully built ColabTurtle\n",
            "Installing collected packages: ColabTurtle\n",
            "Successfully installed ColabTurtle-2.0.0\n"
          ],
          "name": "stdout"
        }
      ]
    },
    {
      "cell_type": "code",
      "metadata": {
        "id": "xNEBJNGFXYBV",
        "colab_type": "code",
        "outputId": "32401842-5bea-4e1d-d241-9b93e29c18e1",
        "colab": {
          "base_uri": "https://localhost:8080/",
          "height": 541
        }
      },
      "source": [
        "import ColabTurtle.Turtle as t\n",
        "\n",
        "\n",
        "#from ColabTurtle.Turtle import *\n",
        "#As Colab stores the declared variables in the runtime, call this before using:\n",
        "t.initializeTurtle()\n",
        "\n",
        "t.right(90)\n",
        "t.forward(50)\n",
        "t.right(90)\n",
        "t.forward(30)\n",
        "t.right(90)\n",
        "t.forward(50)\n",
        "t.right(90)\n",
        "t.forward(50)\n",
        "\n",
        "\n"
      ],
      "execution_count": 4,
      "outputs": [
        {
          "output_type": "display_data",
          "data": {
            "text/html": [
              "\n",
              "      <svg width=\"800\" height=\"500\">\n",
              "        <rect width=\"100%\" height=\"100%\" fill=\"black\"/>\n",
              "        <line x1=\"400\" y1=\"250\" x2=\"450.0\" y2=\"250.0\" stroke-linecap=\"round\" style=\"stroke:white;stroke-width:4\"/><line x1=\"450.0\" y1=\"250.0\" x2=\"450.0\" y2=\"280.0\" stroke-linecap=\"round\" style=\"stroke:white;stroke-width:4\"/><line x1=\"450.0\" y1=\"280.0\" x2=\"400.0\" y2=\"280.0\" stroke-linecap=\"round\" style=\"stroke:white;stroke-width:4\"/><line x1=\"400.0\" y1=\"280.0\" x2=\"400.0\" y2=\"230.0\" stroke-linecap=\"round\" style=\"stroke:white;stroke-width:4\"/>\n",
              "        \n",
              "      <g visibility=visible transform=\"rotate(180,400.0,230.0) translate(400.0, 230.0)\">\n",
              "        <circle stroke=\"white\" stroke-width=\"3\" fill=\"transparent\" r=\"12\" cx=\"0\" cy=\"0\"/>\n",
              "        <polygon points=\"0,19 3,16 -3,16\" style=\"fill:white;stroke:white;stroke-width:2\"/>\n",
              "      </g>\n",
              "    \n",
              "      </svg>\n",
              "    "
            ],
            "text/plain": [
              "<IPython.core.display.HTML object>"
            ]
          },
          "metadata": {
            "tags": []
          }
        }
      ]
    },
    {
      "cell_type": "code",
      "metadata": {
        "id": "SAEnb5E-XYBX",
        "colab_type": "code",
        "outputId": "694c73c2-9356-496c-fa75-bc93c433f0c9",
        "colab": {
          "base_uri": "https://localhost:8080/",
          "height": 1000
        }
      },
      "source": [
        "# the methods included in the package are somewhat basic and we will first use \n",
        "# what is provided then add to the code to \n",
        "1) make circles \n",
        "2) deviate from the basic colors\n",
        "\n",
        " 'backward'\n",
        " 'bgcolor'\n",
        " 'color'\n",
        " 'display'\n",
        " 'drawing_window': <DisplayHandle display_id=e7f201aebfb79bf930efcf3bf4eb937b>,\n",
        " 'forward': <function ColabTurtle.Turtle.forward>,\n",
        " 'goto': <function ColabTurtle.Turtle.goto>,\n",
        " 'hideturtle': <function ColabTurtle.Turtle.hideturtle>,\n",
        " 'initializeTurtle': <function ColabTurtle.Turtle.initializeTurtle>,\n",
        " 'is_pen_down': True,\n",
        " 'is_turtle_visible': True,\n",
        " 'left': <function ColabTurtle.Turtle.left>,\n",
        " 'math': <module 'math' (built-in)>,\n",
        " 'pen_color': 'white',\n",
        " 'pen_width': 4,\n",
        " 'pendown': <function ColabTurtle.Turtle.pendown>,\n",
        " 'penup': <function ColabTurtle.Turtle.penup>,\n",
        " 'right': <function ColabTurtle.Turtle.right>,\n",
        " 'setx': <function ColabTurtle.Turtle.setx>,\n",
        " 'sety': <function ColabTurtle.Turtle.sety>,\n",
        " 'showturtle': <function ColabTurtle.Turtle.showturtle>,\n",
        " 'speed': <function ColabTurtle.Turtle.speed>,\n",
        " 'svg_lines_string': '<line x1=\"400\" y1=\"250\" x2=\"450.0\" y2=\"250.0\" stroke-linecap=\"round\" style=\"stroke:white;stroke-width:4\"/><line x1=\"450.0\" y1=\"250.0\" x2=\"450.0\" y2=\"280.0\" stroke-linecap=\"round\" style=\"stroke:white;stroke-width:4\"/><line x1=\"450.0\" y1=\"280.0\" x2=\"400.0\" y2=\"280.0\" stroke-linecap=\"round\" style=\"stroke:white;stroke-width:4\"/><line x1=\"400.0\" y1=\"280.0\" x2=\"400.0\" y2=\"230.0\" stroke-linecap=\"round\" style=\"stroke:white;stroke-width:4\"/>',\n",
        " 'time': <module 'time' (built-in)>,\n",
        " 'timeout': 0.5,\n",
        " 'turtle_degree': 270,\n",
        " 'turtle_pos': (400.0, 230.0),\n",
        " 'width': <function ColabTurtle.Turtle.width>,\n",
        " 'window_size': (800, 500)}\n",
        "\n",
        "\n"
      ],
      "execution_count": 7,
      "outputs": [
        {
          "output_type": "execute_result",
          "data": {
            "text/plain": [
              "{'DEFAULT_BACKGROUND_COLOR': 'black',\n",
              " 'DEFAULT_IS_PEN_DOWN': True,\n",
              " 'DEFAULT_PEN_COLOR': 'white',\n",
              " 'DEFAULT_PEN_WIDTH': 4,\n",
              " 'DEFAULT_SPEED': 4,\n",
              " 'DEFAULT_SVG_LINES_STRING': '',\n",
              " 'DEFAULT_TURTLE_DEGREE': 270,\n",
              " 'DEFAULT_TURTLE_VISIBILITY': True,\n",
              " 'DEFAULT_WINDOW_SIZE': (800, 500),\n",
              " 'HTML': IPython.core.display.HTML,\n",
              " 'SPEED_TO_SEC_MAP': {1: 1.5,\n",
              "  2: 0.9,\n",
              "  3: 0.7,\n",
              "  4: 0.5,\n",
              "  5: 0.3,\n",
              "  6: 0.18,\n",
              "  7: 0.12,\n",
              "  8: 0.06,\n",
              "  9: 0.04,\n",
              "  10: 0.02},\n",
              " 'SVG_TEMPLATE': '\\n      <svg width=\"{window_width}\" height=\"{window_height}\">\\n        <rect width=\"100%\" height=\"100%\" fill=\"{background_color}\"/>\\n        {lines}\\n        {turtle}\\n      </svg>\\n    ',\n",
              " 'TURTLE_SVG_TEMPLATE': '\\n      <g visibility={visibility} transform=\"rotate({degrees},{turtle_x},{turtle_y}) translate({turtle_x}, {turtle_y})\">\\n        <circle stroke=\"{turtle_color}\" stroke-width=\"3\" fill=\"transparent\" r=\"12\" cx=\"0\" cy=\"0\"/>\\n        <polygon points=\"0,19 3,16 -3,16\" style=\"fill:{turtle_color};stroke:{turtle_color};stroke-width:2\"/>\\n      </g>\\n    ',\n",
              " 'VALID_COLORS': ('white',\n",
              "  'yellow',\n",
              "  'orange',\n",
              "  'red',\n",
              "  'green',\n",
              "  'blue',\n",
              "  'purple',\n",
              "  'grey',\n",
              "  'black'),\n",
              " '__builtins__': {'ArithmeticError': ArithmeticError,\n",
              "  'AssertionError': AssertionError,\n",
              "  'AttributeError': AttributeError,\n",
              "  'BaseException': BaseException,\n",
              "  'BlockingIOError': BlockingIOError,\n",
              "  'BrokenPipeError': BrokenPipeError,\n",
              "  'BufferError': BufferError,\n",
              "  'BytesWarning': BytesWarning,\n",
              "  'ChildProcessError': ChildProcessError,\n",
              "  'ConnectionAbortedError': ConnectionAbortedError,\n",
              "  'ConnectionError': ConnectionError,\n",
              "  'ConnectionRefusedError': ConnectionRefusedError,\n",
              "  'ConnectionResetError': ConnectionResetError,\n",
              "  'DeprecationWarning': DeprecationWarning,\n",
              "  'EOFError': EOFError,\n",
              "  'Ellipsis': Ellipsis,\n",
              "  'EnvironmentError': OSError,\n",
              "  'Exception': Exception,\n",
              "  'False': False,\n",
              "  'FileExistsError': FileExistsError,\n",
              "  'FileNotFoundError': FileNotFoundError,\n",
              "  'FloatingPointError': FloatingPointError,\n",
              "  'FutureWarning': FutureWarning,\n",
              "  'GeneratorExit': GeneratorExit,\n",
              "  'IOError': OSError,\n",
              "  'ImportError': ImportError,\n",
              "  'ImportWarning': ImportWarning,\n",
              "  'IndentationError': IndentationError,\n",
              "  'IndexError': IndexError,\n",
              "  'InterruptedError': InterruptedError,\n",
              "  'IsADirectoryError': IsADirectoryError,\n",
              "  'KeyError': KeyError,\n",
              "  'KeyboardInterrupt': KeyboardInterrupt,\n",
              "  'LookupError': LookupError,\n",
              "  'MemoryError': MemoryError,\n",
              "  'ModuleNotFoundError': ModuleNotFoundError,\n",
              "  'NameError': NameError,\n",
              "  'None': None,\n",
              "  'NotADirectoryError': NotADirectoryError,\n",
              "  'NotImplemented': NotImplemented,\n",
              "  'NotImplementedError': NotImplementedError,\n",
              "  'OSError': OSError,\n",
              "  'OverflowError': OverflowError,\n",
              "  'PendingDeprecationWarning': PendingDeprecationWarning,\n",
              "  'PermissionError': PermissionError,\n",
              "  'ProcessLookupError': ProcessLookupError,\n",
              "  'RecursionError': RecursionError,\n",
              "  'ReferenceError': ReferenceError,\n",
              "  'ResourceWarning': ResourceWarning,\n",
              "  'RuntimeError': RuntimeError,\n",
              "  'RuntimeWarning': RuntimeWarning,\n",
              "  'StopAsyncIteration': StopAsyncIteration,\n",
              "  'StopIteration': StopIteration,\n",
              "  'SyntaxError': SyntaxError,\n",
              "  'SyntaxWarning': SyntaxWarning,\n",
              "  'SystemError': SystemError,\n",
              "  'SystemExit': SystemExit,\n",
              "  'TabError': TabError,\n",
              "  'TimeoutError': TimeoutError,\n",
              "  'True': True,\n",
              "  'TypeError': TypeError,\n",
              "  'UnboundLocalError': UnboundLocalError,\n",
              "  'UnicodeDecodeError': UnicodeDecodeError,\n",
              "  'UnicodeEncodeError': UnicodeEncodeError,\n",
              "  'UnicodeError': UnicodeError,\n",
              "  'UnicodeTranslateError': UnicodeTranslateError,\n",
              "  'UnicodeWarning': UnicodeWarning,\n",
              "  'UserWarning': UserWarning,\n",
              "  'ValueError': ValueError,\n",
              "  'Warning': Warning,\n",
              "  'ZeroDivisionError': ZeroDivisionError,\n",
              "  '__IPYTHON__': True,\n",
              "  '__build_class__': <function __build_class__>,\n",
              "  '__debug__': True,\n",
              "  '__doc__': \"Built-in functions, exceptions, and other objects.\\n\\nNoteworthy: None is the `nil' object; Ellipsis represents `...' in slices.\",\n",
              "  '__import__': <function __import__>,\n",
              "  '__loader__': _frozen_importlib.BuiltinImporter,\n",
              "  '__name__': 'builtins',\n",
              "  '__package__': '',\n",
              "  '__spec__': ModuleSpec(name='builtins', loader=<class '_frozen_importlib.BuiltinImporter'>),\n",
              "  'abs': <function abs>,\n",
              "  'all': <function all>,\n",
              "  'any': <function any>,\n",
              "  'ascii': <function ascii>,\n",
              "  'bin': <function bin>,\n",
              "  'bool': bool,\n",
              "  'bytearray': bytearray,\n",
              "  'bytes': bytes,\n",
              "  'callable': <function callable>,\n",
              "  'chr': <function chr>,\n",
              "  'classmethod': classmethod,\n",
              "  'compile': <function compile>,\n",
              "  'complex': complex,\n",
              "  'copyright': Copyright (c) 2001-2019 Python Software Foundation.\n",
              "  All Rights Reserved.\n",
              "  \n",
              "  Copyright (c) 2000 BeOpen.com.\n",
              "  All Rights Reserved.\n",
              "  \n",
              "  Copyright (c) 1995-2001 Corporation for National Research Initiatives.\n",
              "  All Rights Reserved.\n",
              "  \n",
              "  Copyright (c) 1991-1995 Stichting Mathematisch Centrum, Amsterdam.\n",
              "  All Rights Reserved.,\n",
              "  'credits':     Thanks to CWI, CNRI, BeOpen.com, Zope Corporation and a cast of thousands\n",
              "      for supporting Python development.  See www.python.org for more information.,\n",
              "  'delattr': <function delattr>,\n",
              "  'dict': dict,\n",
              "  'dir': <function dir>,\n",
              "  'display': <function IPython.core.display.display>,\n",
              "  'divmod': <function divmod>,\n",
              "  'dreload': <function IPython.lib.deepreload._dreload>,\n",
              "  'enumerate': enumerate,\n",
              "  'eval': <function eval>,\n",
              "  'exec': <function exec>,\n",
              "  'filter': filter,\n",
              "  'float': float,\n",
              "  'format': <function format>,\n",
              "  'frozenset': frozenset,\n",
              "  'get_ipython': <bound method InteractiveShell.get_ipython of <google.colab._shell.Shell object at 0x7f94b63c07f0>>,\n",
              "  'getattr': <function getattr>,\n",
              "  'globals': <function globals>,\n",
              "  'hasattr': <function hasattr>,\n",
              "  'hash': <function hash>,\n",
              "  'help': Type help() for interactive help, or help(object) for help about object.,\n",
              "  'hex': <function hex>,\n",
              "  'id': <function id>,\n",
              "  'input': <bound method Kernel.raw_input of <google.colab._kernel.Kernel object at 0x7f94b63c06d8>>,\n",
              "  'int': int,\n",
              "  'isinstance': <function isinstance>,\n",
              "  'issubclass': <function issubclass>,\n",
              "  'iter': <function iter>,\n",
              "  'len': <function len>,\n",
              "  'license': Type license() to see the full license text,\n",
              "  'list': list,\n",
              "  'locals': <function locals>,\n",
              "  'map': map,\n",
              "  'max': <function max>,\n",
              "  'memoryview': memoryview,\n",
              "  'min': <function min>,\n",
              "  'next': <function next>,\n",
              "  'object': object,\n",
              "  'oct': <function oct>,\n",
              "  'open': <function io.open>,\n",
              "  'ord': <function ord>,\n",
              "  'pow': <function pow>,\n",
              "  'print': <function print>,\n",
              "  'property': property,\n",
              "  'range': range,\n",
              "  'repr': <function repr>,\n",
              "  'reversed': reversed,\n",
              "  'round': <function round>,\n",
              "  'set': set,\n",
              "  'setattr': <function setattr>,\n",
              "  'slice': slice,\n",
              "  'sorted': <function sorted>,\n",
              "  'staticmethod': staticmethod,\n",
              "  'str': str,\n",
              "  'sum': <function sum>,\n",
              "  'super': super,\n",
              "  'tuple': tuple,\n",
              "  'type': type,\n",
              "  'vars': <function vars>,\n",
              "  'zip': zip},\n",
              " '__cached__': '/usr/local/lib/python3.6/dist-packages/ColabTurtle/__pycache__/Turtle.cpython-36.pyc',\n",
              " '__doc__': None,\n",
              " '__file__': '/usr/local/lib/python3.6/dist-packages/ColabTurtle/Turtle.py',\n",
              " '__loader__': <_frozen_importlib_external.SourceFileLoader at 0x7f94cb2f1198>,\n",
              " '__name__': 'ColabTurtle.Turtle',\n",
              " '__package__': 'ColabTurtle',\n",
              " '__spec__': ModuleSpec(name='ColabTurtle.Turtle', loader=<_frozen_importlib_external.SourceFileLoader object at 0x7f94cb2f1198>, origin='/usr/local/lib/python3.6/dist-packages/ColabTurtle/Turtle.py'),\n",
              " '_generateTurtleSvgDrawing': <function ColabTurtle.Turtle._generateTurtleSvgDrawing>,\n",
              " '_genereateSvgDrawing': <function ColabTurtle.Turtle._genereateSvgDrawing>,\n",
              " '_moveToNewPosition': <function ColabTurtle.Turtle._moveToNewPosition>,\n",
              " '_speedToSec': <function ColabTurtle.Turtle._speedToSec>,\n",
              " '_updateDrawing': <function ColabTurtle.Turtle._updateDrawing>,\n",
              " 'background_color': 'black',\n",
              " 'backward': <function ColabTurtle.Turtle.backward>,\n",
              " 'bgcolor': <function ColabTurtle.Turtle.bgcolor>,\n",
              " 'color': <function ColabTurtle.Turtle.color>,\n",
              " 'display': <function IPython.core.display.display>,\n",
              " 'drawing_window': <DisplayHandle display_id=e7f201aebfb79bf930efcf3bf4eb937b>,\n",
              " 'forward': <function ColabTurtle.Turtle.forward>,\n",
              " 'goto': <function ColabTurtle.Turtle.goto>,\n",
              " 'hideturtle': <function ColabTurtle.Turtle.hideturtle>,\n",
              " 'initializeTurtle': <function ColabTurtle.Turtle.initializeTurtle>,\n",
              " 'is_pen_down': True,\n",
              " 'is_turtle_visible': True,\n",
              " 'left': <function ColabTurtle.Turtle.left>,\n",
              " 'math': <module 'math' (built-in)>,\n",
              " 'pen_color': 'white',\n",
              " 'pen_width': 4,\n",
              " 'pendown': <function ColabTurtle.Turtle.pendown>,\n",
              " 'penup': <function ColabTurtle.Turtle.penup>,\n",
              " 'right': <function ColabTurtle.Turtle.right>,\n",
              " 'setx': <function ColabTurtle.Turtle.setx>,\n",
              " 'sety': <function ColabTurtle.Turtle.sety>,\n",
              " 'showturtle': <function ColabTurtle.Turtle.showturtle>,\n",
              " 'speed': <function ColabTurtle.Turtle.speed>,\n",
              " 'svg_lines_string': '<line x1=\"400\" y1=\"250\" x2=\"450.0\" y2=\"250.0\" stroke-linecap=\"round\" style=\"stroke:white;stroke-width:4\"/><line x1=\"450.0\" y1=\"250.0\" x2=\"450.0\" y2=\"280.0\" stroke-linecap=\"round\" style=\"stroke:white;stroke-width:4\"/><line x1=\"450.0\" y1=\"280.0\" x2=\"400.0\" y2=\"280.0\" stroke-linecap=\"round\" style=\"stroke:white;stroke-width:4\"/><line x1=\"400.0\" y1=\"280.0\" x2=\"400.0\" y2=\"230.0\" stroke-linecap=\"round\" style=\"stroke:white;stroke-width:4\"/>',\n",
              " 'time': <module 'time' (built-in)>,\n",
              " 'timeout': 0.5,\n",
              " 'turtle_degree': 270,\n",
              " 'turtle_pos': (400.0, 230.0),\n",
              " 'width': <function ColabTurtle.Turtle.width>,\n",
              " 'window_size': (800, 500)}"
            ]
          },
          "metadata": {
            "tags": []
          },
          "execution_count": 7
        }
      ]
    },
    {
      "cell_type": "markdown",
      "metadata": {
        "id": "f5ir3Iu7nHXJ",
        "colab_type": "text"
      },
      "source": [
        "### The methods included in the package are somewhat basic and we will first use \n",
        "### What is provided then add to the code to \n",
        "1) make circles \n",
        "\n",
        "2) deviate from the basic colors\n",
        "\n",
        "## Methods:\n",
        " 'backward'\n",
        " 'bgcolor'\n",
        " 'color'\n",
        " 'display'\n",
        " 'drawing_window'\n",
        " 'forward'\n",
        " 'goto'\n",
        " 'hideturtle'\n",
        " 'initializeTurtle' \n",
        " 'left'\n",
        " 'width'\n",
        "\n",
        " ## Attributes:\n",
        " 'is_pen_down': True,\n",
        " 'is_turtle_visible': True,\n",
        " 'pen_color': 'white',\n",
        " 'pen_width': 4,\n",
        " 'pendown'\n",
        " 'penup'\n",
        " 'right'\n",
        " 'setx'\n",
        " 'sety'\n",
        " 'showturtle'\n",
        " 'speed'\n",
        " 'timeout': 0.5,\n",
        " 'turtle_degree': 270,\n",
        " 'turtle_pos': (400.0, 230.0),\n",
        " 'window_size': (800, 500)\n"
      ]
    },
    {
      "cell_type": "markdown",
      "metadata": {
        "id": "jmFjWiyVmgV3",
        "colab_type": "text"
      },
      "source": [
        ""
      ]
    },
    {
      "cell_type": "code",
      "metadata": {
        "id": "2coJ3vRcXYBZ",
        "colab_type": "code",
        "colab": {
          "base_uri": "https://localhost:8080/",
          "height": 170
        },
        "outputId": "002c315b-6fca-48f3-e451-4d0f87c8b170"
      },
      "source": [
        "# these are the valid colors lets add some color and a loop to make something \n",
        "# more interesting\n",
        "\n",
        "t.VALID_COLORS"
      ],
      "execution_count": 12,
      "outputs": [
        {
          "output_type": "execute_result",
          "data": {
            "text/plain": [
              "('white',\n",
              " 'yellow',\n",
              " 'orange',\n",
              " 'red',\n",
              " 'green',\n",
              " 'blue',\n",
              " 'purple',\n",
              " 'grey',\n",
              " 'black')"
            ]
          },
          "metadata": {
            "tags": []
          },
          "execution_count": 12
        }
      ]
    },
    {
      "cell_type": "markdown",
      "metadata": {
        "id": "w0UbgeHhmuhm",
        "colab_type": "text"
      },
      "source": [
        ""
      ]
    },
    {
      "cell_type": "code",
      "metadata": {
        "id": "ekClDGMcXYBe",
        "colab_type": "code",
        "colab": {}
      },
      "source": [
        ""
      ],
      "execution_count": 0,
      "outputs": []
    },
    {
      "cell_type": "code",
      "metadata": {
        "id": "z4oyOe0_XYBg",
        "colab_type": "code",
        "colab": {}
      },
      "source": [
        ""
      ],
      "execution_count": 0,
      "outputs": []
    },
    {
      "cell_type": "code",
      "metadata": {
        "id": "24mxinYQXYBi",
        "colab_type": "code",
        "colab": {}
      },
      "source": [
        ""
      ],
      "execution_count": 0,
      "outputs": []
    },
    {
      "cell_type": "code",
      "metadata": {
        "id": "DqwZ-ylYXYBl",
        "colab_type": "code",
        "colab": {}
      },
      "source": [
        ""
      ],
      "execution_count": 0,
      "outputs": []
    },
    {
      "cell_type": "code",
      "metadata": {
        "id": "f4l6Pv6VXYBn",
        "colab_type": "code",
        "colab": {}
      },
      "source": [
        ""
      ],
      "execution_count": 0,
      "outputs": []
    },
    {
      "cell_type": "code",
      "metadata": {
        "id": "kmOGIoObXYBp",
        "colab_type": "code",
        "colab": {}
      },
      "source": [
        ""
      ],
      "execution_count": 0,
      "outputs": []
    }
  ]
}